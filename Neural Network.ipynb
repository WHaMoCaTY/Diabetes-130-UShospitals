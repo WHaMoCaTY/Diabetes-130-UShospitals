{
 "cells": [
  {
   "cell_type": "code",
   "execution_count": 138,
   "metadata": {},
   "outputs": [],
   "source": [
    "import torch\n",
    "import torch.utils.data\n",
    "import torch.nn as nn\n",
    "from torch.autograd import Variable\n",
    "import torch.optim as optim\n",
    "\n",
    "import numpy as np\n",
    "from sklearn.preprocessing import MinMaxScaler\n",
    "import matplotlib.pyplot as plt"
   ]
  },
  {
   "cell_type": "code",
   "execution_count": 139,
   "metadata": {},
   "outputs": [],
   "source": [
    "# Prepare data\n",
    "my_data = np.genfromtxt('hospital_ready.csv', delimiter=',')[1:]\n",
    "X = my_data[:,:-1]\n",
    "Y = my_data[:, -1]\n",
    "Y = Y-1\n",
    "scaler = MinMaxScaler()\n",
    "scaler.fit(X)\n",
    "X = scaler.transform(X)\n",
    "X_train = X[:60000,:]\n",
    "X_test = X[60000:,:]\n",
    "Y_train = Y[:60000]\n",
    "Y_test = Y[60000:]"
   ]
  },
  {
   "cell_type": "code",
   "execution_count": 155,
   "metadata": {},
   "outputs": [],
   "source": [
    "# data loader\n",
    "tensor_Xtr = torch.from_numpy(X_train).float()\n",
    "tensor_Ytr = torch.from_numpy(Y_train).long()\n",
    "tensor_Xva = torch.from_numpy(X_test).float()\n",
    "tensor_Yva = torch.from_numpy(Y_test).long()\n",
    "\n",
    "train = torch.utils.data.TensorDataset(tensor_Xtr, tensor_Ytr)\n",
    "train_loader = torch.utils.data.DataLoader(train, batch_size=256, shuffle=True)\n",
    "\n",
    "test = torch.utils.data.TensorDataset(tensor_Xva, tensor_Yva)\n",
    "test_loader = torch.utils.data.DataLoader(test, batch_size=256, shuffle=True)\n"
   ]
  },
  {
   "cell_type": "code",
   "execution_count": 156,
   "metadata": {},
   "outputs": [],
   "source": [
    "# define network\n",
    "# define nnet\n",
    "class Net(nn.Module):\n",
    "    def __init__(self):\n",
    "        super().__init__()\n",
    "        self.fc1 = nn.Linear(73, 200)\n",
    "        self.relu1 = nn.ReLU()\n",
    "#         self.fc2 = nn.Linear(200, 200)\n",
    "#         self.relu2 = nn.ReLU()\n",
    "        self.out = nn.Linear(200, 3)\n",
    "        \n",
    "    def forward(self, input_):\n",
    "        a1 = self.fc1(input_)\n",
    "        h1 = self.relu1(a1)\n",
    "#         a2 = self.fc2(h1)\n",
    "#         h2 = self.relu2(a2)\n",
    "        a3 = self.out(h1)\n",
    "        return a3\n",
    "    \n",
    "class Net2(nn.Module):\n",
    "    def __init__(self):\n",
    "        super().__init__()\n",
    "        self.fc1 = nn.Linear(73, 200)\n",
    "        self.relu1 = nn.ReLU()\n",
    "        self.fc2 = nn.Linear(200, 200)\n",
    "        self.relu2 = nn.ReLU()\n",
    "        self.out = nn.Linear(200, 3)\n",
    "        \n",
    "    def forward(self, input_):\n",
    "        a1 = self.fc1(input_)\n",
    "        h1 = self.relu1(a1)\n",
    "        a2 = self.fc2(h1)\n",
    "        h2 = self.relu2(a2)\n",
    "        a3 = self.out(h2)\n",
    "        return a3"
   ]
  },
  {
   "cell_type": "code",
   "execution_count": 169,
   "metadata": {},
   "outputs": [],
   "source": [
    "# Create model\n",
    "net = Net()\n",
    "net.cuda()\n",
    "opt = optim.SGD(net.parameters(), lr=0.0001)\n",
    "criterion = nn.CrossEntropyLoss()  "
   ]
  },
  {
   "cell_type": "code",
   "execution_count": 158,
   "metadata": {},
   "outputs": [],
   "source": [
    "# Test the Model\n",
    "def test(net, loader):\n",
    "    correct = 0\n",
    "    total = 0\n",
    "    for x, y in loader:\n",
    "        x = Variable(x).cuda()\n",
    "        outputs = net(x)\n",
    "        _, predicted = torch.max(outputs.data, 1)\n",
    "        total += y.size(0)\n",
    "        correct += (predicted.cpu() == y).sum()\n",
    "    return correct.item()/total"
   ]
  },
  {
   "cell_type": "code",
   "execution_count": 170,
   "metadata": {},
   "outputs": [
    {
     "name": "stdout",
     "output_type": "stream",
     "text": [
      "Epoch: 0, Loss: 1.061552, Train AC: 0.528450, Test AC: 0.6617, Best AC: 0.6617\n",
      "Epoch: 1, Loss: 1.062137, Train AC: 0.557800, Test AC: 0.6976, Best AC: 0.6976\n",
      "Epoch: 2, Loss: 1.066353, Train AC: 0.569800, Test AC: 0.7169, Best AC: 0.7169\n",
      "Epoch: 3, Loss: 1.038853, Train AC: 0.573933, Test AC: 0.7252, Best AC: 0.7252\n",
      "Epoch: 4, Loss: 1.042144, Train AC: 0.575283, Test AC: 0.7279, Best AC: 0.7279\n",
      "Epoch: 5, Loss: 1.017155, Train AC: 0.575567, Test AC: 0.7286, Best AC: 0.7286\n",
      "Epoch: 6, Loss: 1.003508, Train AC: 0.576050, Test AC: 0.7289, Best AC: 0.7289\n",
      "Epoch: 7, Loss: 1.007445, Train AC: 0.576250, Test AC: 0.7294, Best AC: 0.7294\n",
      "Epoch: 8, Loss: 1.019916, Train AC: 0.576367, Test AC: 0.7295, Best AC: 0.7295\n",
      "Epoch: 9, Loss: 0.997053, Train AC: 0.576367, Test AC: 0.7295, Best AC: 0.7295\n",
      "Epoch: 10, Loss: 1.022908, Train AC: 0.576367, Test AC: 0.7296, Best AC: 0.7296\n",
      "Epoch: 11, Loss: 0.967788, Train AC: 0.576367, Test AC: 0.7296, Best AC: 0.7296\n",
      "Epoch: 12, Loss: 0.980334, Train AC: 0.576367, Test AC: 0.7296, Best AC: 0.7296\n",
      "Epoch: 13, Loss: 0.962260, Train AC: 0.576367, Test AC: 0.7296, Best AC: 0.7296\n",
      "Epoch: 14, Loss: 0.952370, Train AC: 0.576367, Test AC: 0.7296, Best AC: 0.7296\n",
      "Epoch: 15, Loss: 0.993016, Train AC: 0.576367, Test AC: 0.7296, Best AC: 0.7296\n",
      "Epoch: 16, Loss: 0.931897, Train AC: 0.576367, Test AC: 0.7296, Best AC: 0.7296\n",
      "Epoch: 17, Loss: 0.974508, Train AC: 0.576367, Test AC: 0.7296, Best AC: 0.7296\n",
      "Epoch: 18, Loss: 0.977321, Train AC: 0.576367, Test AC: 0.7296, Best AC: 0.7296\n",
      "Epoch: 19, Loss: 0.889236, Train AC: 0.576367, Test AC: 0.7296, Best AC: 0.7296\n"
     ]
    }
   ],
   "source": [
    "# run\n",
    "best_ac = 0\n",
    "train_ac = []\n",
    "test_ac = []\n",
    "train_loss = []\n",
    "for epoch in range(20):\n",
    "    for i, (x, y) in enumerate(train_loader):  \n",
    "        # Convert torch tensor to Variable\n",
    "        x = Variable(x).cuda()\n",
    "        y = Variable(y).cuda()\n",
    "        \n",
    "        # Forward + Backward + Optimize\n",
    "        opt.zero_grad()  # zero the gradient buffer\n",
    "        outputs = net(x)\n",
    "        loss = criterion(outputs, y)\n",
    "        loss.backward()\n",
    "        opt.step()\n",
    "        \n",
    "    \n",
    "    train_loss.append(loss.item())\n",
    "    tr_ac = test(net, train_loader)\n",
    "    te_ac = test(net, test_loader)\n",
    "    train_ac.append(tr_ac)\n",
    "    test_ac.append(te_ac)\n",
    "    if te_ac > best_ac:\n",
    "        torch.save(net.state_dict(), 'model.pb')\n",
    "        best_ac = te_ac\n",
    "    print(\"Epoch: %d, Loss: %4f, Train AC: %4f, Test AC: %.4f, Best AC: %.4f\" %  (epoch, loss.item(), tr_ac, te_ac, best_ac))"
   ]
  },
  {
   "cell_type": "code",
   "execution_count": 171,
   "metadata": {},
   "outputs": [
    {
     "data": {
      "text/plain": [
       "0.7295537419690918"
      ]
     },
     "execution_count": 171,
     "metadata": {},
     "output_type": "execute_result"
    }
   ],
   "source": [
    "best_ac"
   ]
  },
  {
   "cell_type": "code",
   "execution_count": 172,
   "metadata": {},
   "outputs": [],
   "source": [
    "net = Net2()\n",
    "net.cuda()\n",
    "opt = optim.SGD(net.parameters(), lr=0.0001)\n",
    "criterion = nn.CrossEntropyLoss() "
   ]
  },
  {
   "cell_type": "code",
   "execution_count": 173,
   "metadata": {},
   "outputs": [
    {
     "name": "stdout",
     "output_type": "stream",
     "text": [
      "Epoch: 0, Loss: 1.117867, Train AC: 0.095017, Test AC: 0.0634, Best AC: 0.0634\n",
      "Epoch: 1, Loss: 1.113086, Train AC: 0.112783, Test AC: 0.0895, Best AC: 0.0895\n",
      "Epoch: 2, Loss: 1.106054, Train AC: 0.181300, Test AC: 0.1940, Best AC: 0.1940\n",
      "Epoch: 3, Loss: 1.103254, Train AC: 0.302450, Test AC: 0.3755, Best AC: 0.3755\n",
      "Epoch: 4, Loss: 1.093999, Train AC: 0.439750, Test AC: 0.5614, Best AC: 0.5614\n",
      "Epoch: 5, Loss: 1.089308, Train AC: 0.533183, Test AC: 0.6894, Best AC: 0.6894\n",
      "Epoch: 6, Loss: 1.083782, Train AC: 0.568350, Test AC: 0.7223, Best AC: 0.7223\n",
      "Epoch: 7, Loss: 1.078992, Train AC: 0.575600, Test AC: 0.7287, Best AC: 0.7287\n",
      "Epoch: 8, Loss: 1.076333, Train AC: 0.576267, Test AC: 0.7296, Best AC: 0.7296\n",
      "Epoch: 9, Loss: 1.066625, Train AC: 0.576367, Test AC: 0.7296, Best AC: 0.7296\n",
      "Epoch: 10, Loss: 1.046983, Train AC: 0.576367, Test AC: 0.7296, Best AC: 0.7296\n",
      "Epoch: 11, Loss: 1.057629, Train AC: 0.576367, Test AC: 0.7296, Best AC: 0.7296\n",
      "Epoch: 12, Loss: 1.055568, Train AC: 0.576367, Test AC: 0.7296, Best AC: 0.7296\n",
      "Epoch: 13, Loss: 1.047192, Train AC: 0.576367, Test AC: 0.7296, Best AC: 0.7296\n",
      "Epoch: 14, Loss: 1.055036, Train AC: 0.576367, Test AC: 0.7296, Best AC: 0.7296\n",
      "Epoch: 15, Loss: 1.030802, Train AC: 0.576367, Test AC: 0.7296, Best AC: 0.7296\n",
      "Epoch: 16, Loss: 1.053201, Train AC: 0.576367, Test AC: 0.7296, Best AC: 0.7296\n",
      "Epoch: 17, Loss: 1.043253, Train AC: 0.576367, Test AC: 0.7296, Best AC: 0.7296\n",
      "Epoch: 18, Loss: 1.030746, Train AC: 0.576367, Test AC: 0.7296, Best AC: 0.7296\n",
      "Epoch: 19, Loss: 1.016899, Train AC: 0.576367, Test AC: 0.7296, Best AC: 0.7296\n"
     ]
    }
   ],
   "source": [
    "# run 2\n",
    "best_ac2 = 0\n",
    "train_ac2 = []\n",
    "test_ac2 = []\n",
    "train_loss2 = []\n",
    "for epoch in range(20):\n",
    "    for i, (x, y) in enumerate(train_loader):  \n",
    "        # Convert torch tensor to Variable\n",
    "        x = Variable(x).cuda()\n",
    "        y = Variable(y).cuda()\n",
    "        \n",
    "        # Forward + Backward + Optimize\n",
    "        opt.zero_grad()  # zero the gradient buffer\n",
    "        outputs = net(x)\n",
    "        loss = criterion(outputs, y)\n",
    "        loss.backward()\n",
    "        opt.step()\n",
    "        \n",
    "    \n",
    "    train_loss2.append(loss.item())\n",
    "    tr_ac = test(net, train_loader)\n",
    "    te_ac = test(net, test_loader)\n",
    "    train_ac2.append(tr_ac)\n",
    "    test_ac2.append(te_ac)\n",
    "    if te_ac > best_ac2:\n",
    "        torch.save(net.state_dict(), 'model.pb')\n",
    "        best_ac2 = te_ac\n",
    "    print(\"Epoch: %d, Loss: %4f, Train AC: %4f, Test AC: %.4f, Best AC: %.4f\" %  (epoch, loss.item(), tr_ac, te_ac, best_ac2))"
   ]
  },
  {
   "cell_type": "code",
   "execution_count": 165,
   "metadata": {},
   "outputs": [
    {
     "data": {
      "image/png": "[encoded data removed]",
      "text/plain": [
       "<Figure size 432x288 with 1 Axes>"
      ]
     },
     "metadata": {
      "needs_background": "light"
     },
     "output_type": "display_data"
    }
   ],
   "source": [
    "# plot accuracy\n",
    "plt.plot(np.arange(20)+1, test_ac2, 'r')\n",
    "plt.plot(np.arange(20)+1, test_ac, 'b')\n",
    "plt.legend(['1 hidden layer of 200','2 hidden layers of 200'])\n",
    "plt.title('Accuracy On Test Data')\n",
    "plt.xlabel('Training Epochs')\n",
    "plt.ylabel('Accuracy')\n",
    "plt.savefig('acc.jpg')"
   ]
  },
  {
   "cell_type": "code",
   "execution_count": 166,
   "metadata": {},
   "outputs": [
    {
     "data": {
      "image/png": "[encoded data removed]",
      "text/plain": [
       "<Figure size 432x288 with 1 Axes>"
      ]
     },
     "metadata": {
      "needs_background": "light"
     },
     "output_type": "display_data"
    }
   ],
   "source": [
    "# plot loss\n",
    "plt.plot(np.arange(20)+1, train_loss2, 'r')\n",
    "plt.plot(np.arange(20)+1, train_loss, 'b')\n",
    "plt.legend(['1 hidden layer of 200','2 hidden layers of 200'])\n",
    "plt.title('Accuracy On Test Data')\n",
    "plt.xlabel('Training Epochs')\n",
    "plt.ylabel('Accuracy')\n",
    "plt.savefig('loss.jpg')"
   ]
  },
  {
   "cell_type": "code",
   "execution_count": 175,
   "metadata": {},
   "outputs": [
    {
     "data": {
      "text/plain": [
       "0.7295537419690918"
      ]
     },
     "execution_count": 175,
     "metadata": {},
     "output_type": "execute_result"
    }
   ],
   "source": [
    "best_ac"
   ]
  },
  {
   "cell_type": "code",
   "execution_count": 174,
   "metadata": {},
   "outputs": [
    {
     "data": {
      "text/plain": [
       "0.7295537419690918"
      ]
     },
     "execution_count": 174,
     "metadata": {},
     "output_type": "execute_result"
    }
   ],
   "source": [
    "best_ac2"
   ]
  }
 ],
 "metadata": {
  "kernelspec": {
   "display_name": "Python 3",
   "language": "python",
   "name": "python3"
  },
  "language_info": {
   "codemirror_mode": {
    "name": "ipython",
    "version": 3
   },
   "file_extension": ".py",
   "mimetype": "text/x-python",
   "name": "python",
   "nbconvert_exporter": "python",
   "pygments_lexer": "ipython3",
   "version": "3.7.4"
  }
 },
 "nbformat": 4,
 "nbformat_minor": 2
}
