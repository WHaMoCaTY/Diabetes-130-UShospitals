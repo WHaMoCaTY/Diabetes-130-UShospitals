{
 "cells": [
  {
   "cell_type": "code",
   "execution_count": 185,
   "metadata": {},
   "outputs": [],
   "source": [
    "import torch\n",
    "import torch.utils.data\n",
    "import torch.nn as nn\n",
    "from torch.autograd import Variable\n",
    "import torch.optim as optim\n",
    "\n",
    "import numpy as np\n",
    "from sklearn.preprocessing import MinMaxScaler\n",
    "import matplotlib.pyplot as plt"
   ]
  },
  {
   "cell_type": "code",
   "execution_count": 186,
   "metadata": {},
   "outputs": [],
   "source": [
    "# Prepare data\n",
    "my_data = np.genfromtxt('hospital_ready_shuffle.csv', delimiter=',')[1:]\n",
    "X = my_data[:,:-1]\n",
    "Y = my_data[:, -1]\n",
    "Y = Y-1\n",
    "scaler = MinMaxScaler()\n",
    "scaler.fit(X)\n",
    "X = scaler.transform(X)\n",
    "X_train = X[:60000,:]\n",
    "X_test = X[60000:,:]\n",
    "Y_train = Y[:60000]\n",
    "Y_test = Y[60000:]"
   ]
  },
  {
   "cell_type": "code",
   "execution_count": 187,
   "metadata": {},
   "outputs": [],
   "source": [
    "# data loader\n",
    "tensor_Xtr = torch.from_numpy(X_train).float()\n",
    "tensor_Ytr = torch.from_numpy(Y_train).long()\n",
    "tensor_Xva = torch.from_numpy(X_test).float()\n",
    "tensor_Yva = torch.from_numpy(Y_test).long()\n",
    "\n",
    "train = torch.utils.data.TensorDataset(tensor_Xtr, tensor_Ytr)\n",
    "train_loader = torch.utils.data.DataLoader(train, batch_size=256, shuffle=True)\n",
    "\n",
    "test = torch.utils.data.TensorDataset(tensor_Xva, tensor_Yva)\n",
    "test_loader = torch.utils.data.DataLoader(test, batch_size=256, shuffle=True)\n"
   ]
  },
  {
   "cell_type": "code",
   "execution_count": 188,
   "metadata": {},
   "outputs": [],
   "source": [
    "# define network\n",
    "# define nnet\n",
    "class Net(nn.Module):\n",
    "    def __init__(self):\n",
    "        super().__init__()\n",
    "        self.fc1 = nn.Linear(73, 200)\n",
    "        self.relu1 = nn.ReLU()\n",
    "#         self.fc2 = nn.Linear(200, 200)\n",
    "#         self.relu2 = nn.ReLU()\n",
    "        self.out = nn.Linear(200, 3)\n",
    "        \n",
    "    def forward(self, input_):\n",
    "        a1 = self.fc1(input_)\n",
    "        h1 = self.relu1(a1)\n",
    "#         a2 = self.fc2(h1)\n",
    "#         h2 = self.relu2(a2)\n",
    "        a3 = self.out(h1)\n",
    "        return a3\n",
    "    \n",
    "class Net2(nn.Module):\n",
    "    def __init__(self):\n",
    "        super().__init__()\n",
    "        self.fc1 = nn.Linear(73, 200)\n",
    "        self.relu1 = nn.ReLU()\n",
    "        self.fc2 = nn.Linear(200, 200)\n",
    "        self.relu2 = nn.ReLU()\n",
    "        self.out = nn.Linear(200, 3)\n",
    "        \n",
    "    def forward(self, input_):\n",
    "        a1 = self.fc1(input_)\n",
    "        h1 = self.relu1(a1)\n",
    "        a2 = self.fc2(h1)\n",
    "        h2 = self.relu2(a2)\n",
    "        a3 = self.out(h2)\n",
    "        return a3"
   ]
  },
  {
   "cell_type": "code",
   "execution_count": 189,
   "metadata": {},
   "outputs": [],
   "source": [
    "# Create model\n",
    "net = Net()\n",
    "net.cuda()\n",
    "opt = optim.SGD(net.parameters(), lr=0.0001)\n",
    "criterion = nn.CrossEntropyLoss()  "
   ]
  },
  {
   "cell_type": "code",
   "execution_count": 190,
   "metadata": {},
   "outputs": [],
   "source": [
    "# Test the Model\n",
    "def test(net, loader):\n",
    "    correct = 0\n",
    "    total = 0\n",
    "    for x, y in loader:\n",
    "        x = Variable(x).cuda()\n",
    "        outputs = net(x)\n",
    "        _, predicted = torch.max(outputs.data, 1)\n",
    "        total += y.size(0)\n",
    "        correct += (predicted.cpu() == y).sum()\n",
    "    return correct.item()/total"
   ]
  },
  {
   "cell_type": "code",
   "execution_count": 191,
   "metadata": {},
   "outputs": [
    {
     "name": "stdout",
     "output_type": "stream",
     "text": [
      "Epoch: 0, Loss: 1.082309, Train AC: 0.492233, Test AC: 0.4910, Best AC: 0.4910\n",
      "Epoch: 1, Loss: 1.050058, Train AC: 0.556150, Test AC: 0.5556, Best AC: 0.5556\n",
      "Epoch: 2, Loss: 1.083405, Train AC: 0.586217, Test AC: 0.5853, Best AC: 0.5853\n",
      "Epoch: 3, Loss: 1.069627, Train AC: 0.597617, Test AC: 0.5985, Best AC: 0.5985\n",
      "Epoch: 4, Loss: 1.041814, Train AC: 0.600333, Test AC: 0.6008, Best AC: 0.6008\n",
      "Epoch: 5, Loss: 1.031907, Train AC: 0.600917, Test AC: 0.6013, Best AC: 0.6013\n",
      "Epoch: 6, Loss: 1.008809, Train AC: 0.600933, Test AC: 0.6014, Best AC: 0.6014\n",
      "Epoch: 7, Loss: 1.017278, Train AC: 0.600950, Test AC: 0.6014, Best AC: 0.6014\n",
      "Epoch: 8, Loss: 0.996557, Train AC: 0.600950, Test AC: 0.6015, Best AC: 0.6015\n",
      "Epoch: 9, Loss: 0.997062, Train AC: 0.600950, Test AC: 0.6015, Best AC: 0.6015\n",
      "Epoch: 10, Loss: 1.013910, Train AC: 0.600950, Test AC: 0.6015, Best AC: 0.6015\n",
      "Epoch: 11, Loss: 1.023153, Train AC: 0.600950, Test AC: 0.6015, Best AC: 0.6015\n",
      "Epoch: 12, Loss: 0.954566, Train AC: 0.600950, Test AC: 0.6015, Best AC: 0.6015\n",
      "Epoch: 13, Loss: 0.984387, Train AC: 0.600950, Test AC: 0.6015, Best AC: 0.6015\n",
      "Epoch: 14, Loss: 0.981436, Train AC: 0.600950, Test AC: 0.6015, Best AC: 0.6015\n",
      "Epoch: 15, Loss: 0.957640, Train AC: 0.600950, Test AC: 0.6015, Best AC: 0.6015\n",
      "Epoch: 16, Loss: 0.957531, Train AC: 0.600950, Test AC: 0.6015, Best AC: 0.6015\n",
      "Epoch: 17, Loss: 0.987054, Train AC: 0.600950, Test AC: 0.6015, Best AC: 0.6015\n",
      "Epoch: 18, Loss: 1.010459, Train AC: 0.600950, Test AC: 0.6015, Best AC: 0.6015\n",
      "Epoch: 19, Loss: 0.988058, Train AC: 0.600950, Test AC: 0.6015, Best AC: 0.6015\n"
     ]
    }
   ],
   "source": [
    "# run\n",
    "best_ac = 0\n",
    "train_ac = []\n",
    "test_ac = []\n",
    "train_loss = []\n",
    "for epoch in range(20):\n",
    "    for i, (x, y) in enumerate(train_loader):  \n",
    "        # Convert torch tensor to Variable\n",
    "        x = Variable(x).cuda()\n",
    "        y = Variable(y).cuda()\n",
    "        \n",
    "        # Forward + Backward + Optimize\n",
    "        opt.zero_grad()  # zero the gradient buffer\n",
    "        outputs = net(x)\n",
    "        loss = criterion(outputs, y)\n",
    "        loss.backward()\n",
    "        opt.step()\n",
    "        \n",
    "    \n",
    "    train_loss.append(loss.item())\n",
    "    tr_ac = test(net, train_loader)\n",
    "    te_ac = test(net, test_loader)\n",
    "    train_ac.append(tr_ac)\n",
    "    test_ac.append(te_ac)\n",
    "    if te_ac > best_ac:\n",
    "        torch.save(net.state_dict(), 'model.pb')\n",
    "        best_ac = te_ac\n",
    "    print(\"Epoch: %d, Loss: %4f, Train AC: %4f, Test AC: %.4f, Best AC: %.4f\" %  (epoch, loss.item(), tr_ac, te_ac, best_ac))"
   ]
  },
  {
   "cell_type": "code",
   "execution_count": 192,
   "metadata": {},
   "outputs": [
    {
     "data": {
      "text/plain": [
       "0.6014933148115993"
      ]
     },
     "execution_count": 192,
     "metadata": {},
     "output_type": "execute_result"
    }
   ],
   "source": [
    "best_ac"
   ]
  },
  {
   "cell_type": "code",
   "execution_count": 193,
   "metadata": {},
   "outputs": [],
   "source": [
    "net = Net2()\n",
    "net.cuda()\n",
    "opt = optim.SGD(net.parameters(), lr=0.0001)\n",
    "criterion = nn.CrossEntropyLoss() "
   ]
  },
  {
   "cell_type": "code",
   "execution_count": 194,
   "metadata": {},
   "outputs": [
    {
     "name": "stdout",
     "output_type": "stream",
     "text": [
      "Epoch: 0, Loss: 1.110865, Train AC: 0.123050, Test AC: 0.1242, Best AC: 0.1242\n",
      "Epoch: 1, Loss: 1.105105, Train AC: 0.253567, Test AC: 0.2537, Best AC: 0.2537\n",
      "Epoch: 2, Loss: 1.100559, Train AC: 0.422183, Test AC: 0.4218, Best AC: 0.4218\n",
      "Epoch: 3, Loss: 1.087220, Train AC: 0.534500, Test AC: 0.5293, Best AC: 0.5293\n",
      "Epoch: 4, Loss: 1.081773, Train AC: 0.578867, Test AC: 0.5773, Best AC: 0.5773\n",
      "Epoch: 5, Loss: 1.069989, Train AC: 0.592350, Test AC: 0.5934, Best AC: 0.5934\n",
      "Epoch: 6, Loss: 1.066534, Train AC: 0.597950, Test AC: 0.5982, Best AC: 0.5982\n",
      "Epoch: 7, Loss: 1.060255, Train AC: 0.599900, Test AC: 0.6009, Best AC: 0.6009\n",
      "Epoch: 8, Loss: 1.060882, Train AC: 0.600717, Test AC: 0.6010, Best AC: 0.6010\n",
      "Epoch: 9, Loss: 1.063784, Train AC: 0.600917, Test AC: 0.6015, Best AC: 0.6015\n",
      "Epoch: 10, Loss: 1.052061, Train AC: 0.600917, Test AC: 0.6015, Best AC: 0.6015\n",
      "Epoch: 11, Loss: 1.046723, Train AC: 0.600950, Test AC: 0.6015, Best AC: 0.6015\n",
      "Epoch: 12, Loss: 1.049206, Train AC: 0.600950, Test AC: 0.6015, Best AC: 0.6015\n",
      "Epoch: 13, Loss: 1.015712, Train AC: 0.600950, Test AC: 0.6015, Best AC: 0.6015\n",
      "Epoch: 14, Loss: 1.015556, Train AC: 0.600950, Test AC: 0.6015, Best AC: 0.6015\n",
      "Epoch: 15, Loss: 1.030415, Train AC: 0.600950, Test AC: 0.6015, Best AC: 0.6015\n",
      "Epoch: 16, Loss: 1.001685, Train AC: 0.600950, Test AC: 0.6015, Best AC: 0.6015\n",
      "Epoch: 17, Loss: 1.024552, Train AC: 0.600950, Test AC: 0.6015, Best AC: 0.6015\n",
      "Epoch: 18, Loss: 1.020221, Train AC: 0.600950, Test AC: 0.6015, Best AC: 0.6015\n",
      "Epoch: 19, Loss: 1.003439, Train AC: 0.600950, Test AC: 0.6015, Best AC: 0.6015\n"
     ]
    }
   ],
   "source": [
    "# run 2\n",
    "best_ac2 = 0\n",
    "train_ac2 = []\n",
    "test_ac2 = []\n",
    "train_loss2 = []\n",
    "for epoch in range(20):\n",
    "    for i, (x, y) in enumerate(train_loader):  \n",
    "        # Convert torch tensor to Variable\n",
    "        x = Variable(x).cuda()\n",
    "        y = Variable(y).cuda()\n",
    "        \n",
    "        # Forward + Backward + Optimize\n",
    "        opt.zero_grad()  # zero the gradient buffer\n",
    "        outputs = net(x)\n",
    "        loss = criterion(outputs, y)\n",
    "        loss.backward()\n",
    "        opt.step()\n",
    "        \n",
    "    \n",
    "    train_loss2.append(loss.item())\n",
    "    tr_ac = test(net, train_loader)\n",
    "    te_ac = test(net, test_loader)\n",
    "    train_ac2.append(tr_ac)\n",
    "    test_ac2.append(te_ac)\n",
    "    if te_ac > best_ac2:\n",
    "        torch.save(net.state_dict(), 'model.pb')\n",
    "        best_ac2 = te_ac\n",
    "    print(\"Epoch: %d, Loss: %4f, Train AC: %4f, Test AC: %.4f, Best AC: %.4f\" %  (epoch, loss.item(), tr_ac, te_ac, best_ac2))"
   ]
  },
  {
   "cell_type": "code",
   "execution_count": 195,
   "metadata": {
    "scrolled": true
   },
   "outputs": [
    {
     "data": {
      "image/png": "[encoded data removed]",
      "text/plain": [
       "<Figure size 432x288 with 1 Axes>"
      ]
     },
     "metadata": {
      "needs_background": "light"
     },
     "output_type": "display_data"
    }
   ],
   "source": [
    "# plot accuracy\n",
    "plt.plot(np.arange(20)+1, test_ac2, 'r')\n",
    "plt.plot(np.arange(20)+1, test_ac, 'b')\n",
    "plt.legend(['1 hidden layer of 200','2 hidden layers of 200'])\n",
    "plt.title('Accuracy On Test Data')\n",
    "plt.xlabel('Training Epochs')\n",
    "plt.ylabel('Accuracy')\n",
    "plt.savefig('acc.jpg')"
   ]
  },
  {
   "cell_type": "code",
   "execution_count": 196,
   "metadata": {},
   "outputs": [
    {
     "data": {
      "image/png": "[encoded data removed]",
      "text/plain": [
       "<Figure size 432x288 with 1 Axes>"
      ]
     },
     "metadata": {
      "needs_background": "light"
     },
     "output_type": "display_data"
    }
   ],
   "source": [
    "# plot loss\n",
    "plt.plot(np.arange(20)+1, train_loss2, 'r')\n",
    "plt.plot(np.arange(20)+1, train_loss, 'b')\n",
    "plt.legend(['1 hidden layer of 200','2 hidden layers of 200'])\n",
    "plt.title('Accuracy On Test Data')\n",
    "plt.xlabel('Training Epochs')\n",
    "plt.ylabel('Accuracy')\n",
    "plt.savefig('loss.jpg')"
   ]
  },
  {
   "cell_type": "code",
   "execution_count": 197,
   "metadata": {},
   "outputs": [
    {
     "data": {
      "text/plain": [
       "0.6014933148115993"
      ]
     },
     "execution_count": 197,
     "metadata": {},
     "output_type": "execute_result"
    }
   ],
   "source": [
    "best_ac"
   ]
  },
  {
   "cell_type": "code",
   "execution_count": 198,
   "metadata": {},
   "outputs": [
    {
     "data": {
      "text/plain": [
       "0.6014933148115993"
      ]
     },
     "execution_count": 198,
     "metadata": {},
     "output_type": "execute_result"
    }
   ],
   "source": [
    "best_ac2"
   ]
  },
  {
   "cell_type": "code",
   "execution_count": null,
   "metadata": {},
   "outputs": [],
   "source": []
  }
 ],
 "metadata": {
  "kernelspec": {
   "display_name": "Python 3",
   "language": "python",
   "name": "python3"
  },
  "language_info": {
   "codemirror_mode": {
    "name": "ipython",
    "version": 3
   },
   "file_extension": ".py",
   "mimetype": "text/x-python",
   "name": "python",
   "nbconvert_exporter": "python",
   "pygments_lexer": "ipython3",
   "version": "3.7.4"
  }
 },
 "nbformat": 4,
 "nbformat_minor": 2
}
