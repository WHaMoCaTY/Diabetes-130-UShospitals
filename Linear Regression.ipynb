{
 "cells": [
  {
   "cell_type": "code",
   "execution_count": 118,
   "metadata": {},
   "outputs": [],
   "source": [
    "import pandas as pd\n",
    "import numpy as np\n",
    "from numpy import genfromtxt\n",
    "from sklearn.preprocessing import MinMaxScaler\n",
    "from sklearn.linear_model import LogisticRegression\n",
    "\n",
    "import matplotlib.pyplot as plt"
   ]
  },
  {
   "cell_type": "code",
   "execution_count": 166,
   "metadata": {},
   "outputs": [],
   "source": [
    "# read labels\n",
    "csv = pd.read_csv('hospital_ready_shuffle.csv')\n",
    "labels = csv.columns[:-1]"
   ]
  },
  {
   "cell_type": "code",
   "execution_count": 168,
   "metadata": {},
   "outputs": [
    {
     "data": {
      "text/plain": [
       "73"
      ]
     },
     "execution_count": 168,
     "metadata": {},
     "output_type": "execute_result"
    }
   ],
   "source": [
    "len(labels)"
   ]
  },
  {
   "cell_type": "code",
   "execution_count": 169,
   "metadata": {},
   "outputs": [],
   "source": [
    "my_data = genfromtxt('hospital_ready_shuffle.csv', delimiter=',')[1:]\n",
    "X = my_data[:,:-1]\n",
    "Y = my_data[:, -1]"
   ]
  },
  {
   "cell_type": "code",
   "execution_count": 170,
   "metadata": {},
   "outputs": [],
   "source": [
    "# scaling\n",
    "scaler = MinMaxScaler()\n",
    "scaler.fit(X)\n",
    "X = scaler.transform(X)\n",
    "X_train = X[:60000,:]\n",
    "X_test = X[60000:,:]\n",
    "Y_train = Y[:60000]\n",
    "Y_test = Y[60000:]"
   ]
  },
  {
   "cell_type": "code",
   "execution_count": 171,
   "metadata": {},
   "outputs": [],
   "source": [
    "# functions\n",
    "def get_error(y1, y2):\n",
    "    return np.mean(abs(y1-y2))\n",
    "\n",
    "def get_acc_lr(y1, y2, labels):\n",
    "    right = 0\n",
    "    for i in range(len(y1)):\n",
    "        diff = [abs(y1[i] - label) for label in labels]\n",
    "        idx = np.argmin(diff)\n",
    "        y1[i] = labels[idx]\n",
    "    \n",
    "    return sum(y1==y2)/len(y1)\n",
    "    "
   ]
  },
  {
   "cell_type": "code",
   "execution_count": 172,
   "metadata": {},
   "outputs": [
    {
     "name": "stderr",
     "output_type": "stream",
     "text": [
      "/home/jinwei/anaconda3/lib/python3.7/site-packages/sklearn/linear_model/logistic.py:432: FutureWarning: Default solver will be changed to 'lbfgs' in 0.22. Specify a solver to silence this warning.\n",
      "  FutureWarning)\n",
      "/home/jinwei/anaconda3/lib/python3.7/site-packages/sklearn/linear_model/logistic.py:469: FutureWarning: Default multi_class will be changed to 'auto' in 0.22. Specify the multi_class option to silence this warning.\n",
      "  \"this warning.\", FutureWarning)\n"
     ]
    }
   ],
   "source": [
    "# fit model\n",
    "reg = LogisticRegression().fit(X_train, Y_train)\n",
    "Y_head = reg.predict(X_train)"
   ]
  },
  {
   "cell_type": "code",
   "execution_count": 173,
   "metadata": {},
   "outputs": [],
   "source": [
    "Y_testh= reg.predict(X_test)\n",
    "Y_trainh = reg.predict(X_train)"
   ]
  },
  {
   "cell_type": "code",
   "execution_count": 174,
   "metadata": {},
   "outputs": [
    {
     "name": "stdout",
     "output_type": "stream",
     "text": [
      "0.6926549748220178\n",
      "0.6092203507553394\n"
     ]
    }
   ],
   "source": [
    "print(get_error(Y_testh, Y_test))\n",
    "print(get_acc(Y_testh, Y_test, [1,2,3]))"
   ]
  },
  {
   "cell_type": "code",
   "execution_count": 175,
   "metadata": {},
   "outputs": [
    {
     "name": "stdout",
     "output_type": "stream",
     "text": [
      "0.6927166666666666\n",
      "0.6097166666666667\n"
     ]
    }
   ],
   "source": [
    "print(get_error(Y_trainh, Y_train))\n",
    "print(get_acc(Y_trainh, Y_train, [1,2,3]))"
   ]
  },
  {
   "cell_type": "code",
   "execution_count": 176,
   "metadata": {},
   "outputs": [],
   "source": [
    "# visualize the coef\n",
    "# class 0\n",
    "coef0 = []\n",
    "for i in range(len(reg.coef_[0])):\n",
    "    coef0.append((abs(reg.coef_[0][i]), i, labels[i], reg.coef_[0][i]))\n",
    "coef0 = list(reversed(sorted(coef0)))"
   ]
  },
  {
   "cell_type": "code",
   "execution_count": 177,
   "metadata": {
    "collapsed": true
   },
   "outputs": [
    {
     "data": {
      "text/plain": [
       "[(5.620679438655502, 9, 'number_emergency', -5.620679438655502),\n",
       " (5.141517071941854, 10, 'number_inpatient', -5.141517071941854),\n",
       " (2.86763171415989, 8, 'number_outpatient', -2.86763171415989),\n",
       " (1.3755032019013063, 11, 'number_diagnoses', -1.3755032019013063),\n",
       " (1.242636917183217, 26, 'miglitol', -1.242636917183217),\n",
       " (0.6820875902896292, 31, 'glipizide.metformin', -0.6820875902896292),\n",
       " (0.6295312434698658, 44, 'diabetesMed_No', 0.6295312434698658),\n",
       " (0.5186579935645586, 41, 'gender_Unknown/Invalid', 0.5186579935645586),\n",
       " (0.5062586781911252, 43, 'change_No', 0.5062586781911252),\n",
       " (0.46405458935261623, 32, 'metformin.rosiglitazone', 0.46405458935261623),\n",
       " (0.4434920183526102, 42, 'change_Ch', 0.4434920183526102),\n",
       " (0.41924051133256457, 4, 'time_in_hospital', -0.41924051133256457),\n",
       " (0.4133904976800284, 36, 'race_Caucasian', -0.4133904976800284),\n",
       " (0.4036086414296799, 25, 'acarbose', -0.4036086414296799),\n",
       " (0.38807506074355197, 34, 'race_AfricanAmerican', -0.38807506074355197),\n",
       " (0.3833794589978819, 0, 'age', -0.3833794589978819),\n",
       " (0.3643322060581766, 1, 'admission_type_id', -0.3643322060581766),\n",
       " (0.3533225726262171, 22, 'tolbutamide', 0.3533225726262171),\n",
       " (0.34922746347225275, 27, 'troglitazone', -0.34922746347225275),\n",
       " (0.3202194530729213, 45, 'diabetesMed_Yes', 0.3202194530729213),\n",
       " (0.31659798735589006, 17, 'chlorpropamide', -0.31659798735589006),\n",
       " (0.30862971079574114, 6, 'num_procedures', 0.30862971079574114),\n",
       " (0.2766024928835763, 56, 'diagnose2_Diabetes', -0.2766024928835763),\n",
       " (0.25644782959862944, 7, 'num_medications', 0.25644782959862944),\n",
       " (0.2526379842077905, 40, 'gender_Male', 0.2526379842077905),\n",
       " (0.24789688933033582, 15, 'repaglinide', -0.24789688933033582),\n",
       " (0.23774430471737418, 33, 'metformin.pioglitazone', 0.23774430471737418),\n",
       " (0.22488878791598046, 2, 'discharge_disposition_id', 0.22488878791598046),\n",
       " (0.21931689052977105, 5, 'num_lab_procedures', -0.21931689052977105),\n",
       " (0.21044850149460945, 37, 'race_Hispanic', -0.21044850149460945),\n",
       " (0.20776074796057864, 55, 'diagnose2_Circulatory', -0.20776074796057864),\n",
       " (0.20690870955168544, 47, 'diagnose1_Diabetes', -0.20690870955168544),\n",
       " (0.20473820200096388, 3, 'admission_source_id', -0.20473820200096388),\n",
       " (0.19931184171329866, 14, 'metformin', 0.19931184171329866),\n",
       " (0.1784547187939899, 39, 'gender_Female', 0.1784547187939899),\n",
       " (0.16747404264066496, 61, 'diagnose2_Neoplasms', -0.16747404264066496),\n",
       " (0.15933377477193827, 38, 'race_Other', -0.15933377477193827),\n",
       " (0.1411903884886853, 52, 'diagnose1_Neoplasms', 0.1411903884886853),\n",
       " (0.14044404868818747, 65, 'diagnose3_Diabetes', -0.14044404868818747),\n",
       " (0.13687805739880765, 29, 'insulin', 0.13687805739880765),\n",
       " (0.1318830334558434, 49, 'diagnose1_Genitourinary', 0.1318830334558434),\n",
       " (0.12466512204507872, 53, 'diagnose1_Other', 0.12466512204507872),\n",
       " (0.12090576119017929, 66, 'diagnose3_Digestive', -0.12090576119017929),\n",
       " (0.11398915007868644, 24, 'rosiglitazone', -0.11398915007868644),\n",
       " (0.10477776519057377, 58, 'diagnose2_Genitourinary', -0.10477776519057377),\n",
       " (0.10377474963866923, 64, 'diagnose3_Circulatory', -0.10377474963866923),\n",
       " (0.09961793672861322, 13, 'A1Cresult', 0.09961793672861322),\n",
       " (0.09071328589842648, 60, 'diagnose2_Musculoskeletal', -0.09071328589842648),\n",
       " (0.08436156665892665, 72, 'diagnose3_Respiratory', -0.08436156665892665),\n",
       " (0.07734243886546696, 63, 'diagnose2_Respiratory', -0.07734243886546696),\n",
       " (0.07415577545644494, 50, 'diagnose1_Injury', 0.07415577545644494),\n",
       " (0.07243094608296877, 67, 'diagnose3_Genitourinary', -0.07243094608296877),\n",
       " (0.07034875167630371, 71, 'diagnose3_Other', -0.07034875167630371),\n",
       " (0.06640382320630309, 20, 'glipizide', -0.06640382320630309),\n",
       " (0.0645177674147608, 57, 'diagnose2_Digestive', -0.0645177674147608),\n",
       " (0.0641365642529236, 68, 'diagnose3_Injury', 0.0641365642529236),\n",
       " (0.05992937282079521, 51, 'diagnose1_Musculoskeletal', 0.05992937282079521),\n",
       " (0.055194458139362856, 18, 'glimepiride', 0.055194458139362856),\n",
       " (0.05448674639073752, 62, 'diagnose2_Other', -0.05448674639073752),\n",
       " (0.052668750965729844, 46, 'diagnose1_Circulatory', -0.052668750965729844),\n",
       " (0.046080975710951814, 12, 'max_glu_serum', 0.046080975710951814),\n",
       " (0.04497288302827783, 35, 'race_Asian', -0.04497288302827783),\n",
       " (0.04393396540291654, 28, 'tolazamide', 0.04393396540291654),\n",
       " (0.038001731661041226,\n",
       "  69,\n",
       "  'diagnose3_Musculoskeletal',\n",
       "  -0.038001731661041226),\n",
       " (0.02115757046099521, 70, 'diagnose3_Neoplasms', 0.02115757046099521),\n",
       " (0.018766449508516, 23, 'pioglitazone', -0.018766449508516),\n",
       " (0.01806079639286797, 54, 'diagnose1_Respiratory', 0.01806079639286797),\n",
       " (0.01688488559191422, 21, 'glyburide', 0.01688488559191422),\n",
       " (0.015643146462475346, 48, 'diagnose1_Digestive', 0.015643146462475346),\n",
       " (0.012186404076027876, 59, 'diagnose2_Injury', 0.012186404076027876),\n",
       " (0.00894226035186404, 16, 'nateglinide', -0.00894226035186404),\n",
       " (0.00892067535273695, 30, 'glyburide.metformin', 0.00892067535273695),\n",
       " (0.0, 19, 'acetohexamide', 0.0)]"
      ]
     },
     "execution_count": 177,
     "metadata": {},
     "output_type": "execute_result"
    }
   ],
   "source": [
    "coef0"
   ]
  },
  {
   "cell_type": "code",
   "execution_count": 178,
   "metadata": {},
   "outputs": [
    {
     "data": {
      "image/png": "[encoded data removed]",
      "text/plain": [
       "<Figure size 432x288 with 1 Axes>"
      ]
     },
     "metadata": {
      "needs_background": "light"
     },
     "output_type": "display_data"
    }
   ],
   "source": [
    "names = [e[2] for e in coef0[:5]]\n",
    "heights= [e[0] for e in coef0[:5]]\n",
    "vals = [e[3] for e in coef0[:5]]\n",
    "colors = ['g' if e[3] > 0 else 'r' for e in coef0[:5]]\n",
    "y_pos = np.arange(5)\n",
    "plt.bar(y_pos, heights, color=colors)\n",
    "plt.xticks(y_pos, names, rotation='vertical')\n",
    "plt.ylabel('Coefficients')\n",
    "plt.savefig('LR_class1.jpg',bbox_inches='tight')"
   ]
  },
  {
   "cell_type": "code",
   "execution_count": 179,
   "metadata": {},
   "outputs": [
    {
     "name": "stdout",
     "output_type": "stream",
     "text": [
      "number_emergency :  -5.620679438655502\n",
      "number_inpatient :  -5.141517071941854\n",
      "number_outpatient :  -2.86763171415989\n",
      "number_diagnoses :  -1.3755032019013063\n",
      "miglitol :  -1.242636917183217\n"
     ]
    }
   ],
   "source": [
    "for i in range(5):\n",
    "    print(names[i], \": \", vals[i])"
   ]
  },
  {
   "cell_type": "code",
   "execution_count": 180,
   "metadata": {},
   "outputs": [],
   "source": [
    "# class1\n",
    "coef1 = []\n",
    "for i in range(len(reg.coef_[1])):\n",
    "    coef1.append((abs(reg.coef_[1][i]), i, labels[i], reg.coef_[1][i]))\n",
    "coef1 = list(reversed(sorted(coef1)))"
   ]
  },
  {
   "cell_type": "code",
   "execution_count": 181,
   "metadata": {},
   "outputs": [
    {
     "data": {
      "image/png": "[encoded data removed]",
      "text/plain": [
       "<Figure size 432x288 with 1 Axes>"
      ]
     },
     "metadata": {
      "needs_background": "light"
     },
     "output_type": "display_data"
    }
   ],
   "source": [
    "names = [e[2] for e in coef1[:5]]\n",
    "heights= [e[0] for e in coef1[:5]]\n",
    "colors = ['g' if e[3] > 0 else 'r' for e in coef1[:5]]\n",
    "vals = [e[3] for e in coef1[:5]]\n",
    "y_pos = np.arange(5)\n",
    "plt.bar(y_pos, heights, color=colors)\n",
    "plt.xticks(y_pos, names, rotation='vertical')\n",
    "plt.ylabel('Coefficients')\n",
    "plt.savefig('LR_class2.jpg', bbox_inches='tight')"
   ]
  },
  {
   "cell_type": "code",
   "execution_count": 182,
   "metadata": {},
   "outputs": [
    {
     "name": "stdout",
     "output_type": "stream",
     "text": [
      "number_inpatient :  3.9396676889847657\n",
      "number_emergency :  1.8168109769856617\n",
      "chlorpropamide :  -0.9632726980557582\n",
      "diabetesMed_No :  -0.8615495027319211\n",
      "discharge_disposition_id :  0.7805165560333203\n"
     ]
    }
   ],
   "source": [
    "for i in range(5):\n",
    "    print(names[i], \": \", vals[i])"
   ]
  },
  {
   "cell_type": "code",
   "execution_count": 183,
   "metadata": {},
   "outputs": [],
   "source": [
    "# class2\n",
    "coef2 = []\n",
    "for i in range(len(reg.coef_[2])):\n",
    "    coef2.append((abs(reg.coef_[2][i]), i, labels[i], reg.coef_[2][i]))\n",
    "coef2 = list(reversed(sorted(coef2)))"
   ]
  },
  {
   "cell_type": "code",
   "execution_count": 184,
   "metadata": {
    "scrolled": true
   },
   "outputs": [
    {
     "data": {
      "image/png": "[encoded data removed]",
      "text/plain": [
       "<Figure size 432x288 with 1 Axes>"
      ]
     },
     "metadata": {
      "needs_background": "light"
     },
     "output_type": "display_data"
    }
   ],
   "source": [
    "names = [e[2] for e in coef2[:5]]\n",
    "heights= [e[0] for e in coef2[:5]]\n",
    "colors = ['g' if e[3] > 0 else 'r' for e in coef2[:5]]\n",
    "vals = [e[3] for e in coef2[:5]]\n",
    "y_pos = np.arange(5)\n",
    "plt.bar(y_pos, heights, color=colors)\n",
    "plt.xticks(y_pos, names, rotation='vertical')\n",
    "plt.ylabel('Coefficients')\n",
    "plt.savefig('LR_class3.jpg', bbox_inches='tight')"
   ]
  },
  {
   "cell_type": "code",
   "execution_count": 185,
   "metadata": {},
   "outputs": [
    {
     "name": "stdout",
     "output_type": "stream",
     "text": [
      "number_emergency :  4.285109442436811\n",
      "number_outpatient :  2.8359583259919097\n",
      "number_inpatient :  2.5582402067721772\n",
      "miglitol :  1.606332132975167\n",
      "number_diagnoses :  1.2851296546923137\n"
     ]
    }
   ],
   "source": [
    "for i in range(5):\n",
    "    print(names[i], \": \", vals[i])"
   ]
  },
  {
   "cell_type": "code",
   "execution_count": null,
   "metadata": {},
   "outputs": [],
   "source": []
  }
 ],
 "metadata": {
  "kernelspec": {
   "display_name": "Python 3",
   "language": "python",
   "name": "python3"
  },
  "language_info": {
   "codemirror_mode": {
    "name": "ipython",
    "version": 3
   },
   "file_extension": ".py",
   "mimetype": "text/x-python",
   "name": "python",
   "nbconvert_exporter": "python",
   "pygments_lexer": "ipython3",
   "version": "3.7.4"
  }
 },
 "nbformat": 4,
 "nbformat_minor": 2
}
