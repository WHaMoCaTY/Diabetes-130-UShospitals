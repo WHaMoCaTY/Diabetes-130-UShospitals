{
 "cells": [
  {
   "cell_type": "code",
   "execution_count": 118,
   "metadata": {},
   "outputs": [],
   "source": [
    "import pandas as pd\n",
    "import numpy as np\n",
    "from numpy import genfromtxt\n",
    "from sklearn.preprocessing import MinMaxScaler\n",
    "from sklearn.linear_model import LogisticRegression\n",
    "\n",
    "import matplotlib.pyplot as plt"
   ]
  },
  {
   "cell_type": "code",
   "execution_count": 149,
   "metadata": {},
   "outputs": [],
   "source": [
    "# read labels\n",
    "csv = pd.read_csv('hospital_ready.csv')\n",
    "labels = csv.columns[:-1]"
   ]
  },
  {
   "cell_type": "code",
   "execution_count": 68,
   "metadata": {},
   "outputs": [],
   "source": [
    "my_data = genfromtxt('hospital_ready.csv', delimiter=',')[1:]\n",
    "X = my_data[:,:-1]\n",
    "Y = my_data[:, -1]"
   ]
  },
  {
   "cell_type": "code",
   "execution_count": 70,
   "metadata": {},
   "outputs": [],
   "source": [
    "# scaling\n",
    "scaler = MinMaxScaler()\n",
    "scaler.fit(X)\n",
    "X = scaler.transform(X)\n",
    "X_train = X[:60000,:]\n",
    "X_test = X[60000:,:]\n",
    "Y_train = Y[:60000]\n",
    "Y_test = Y[60000:]"
   ]
  },
  {
   "cell_type": "code",
   "execution_count": 84,
   "metadata": {},
   "outputs": [],
   "source": [
    "# functions\n",
    "def get_error(y1, y2):\n",
    "    return np.mean(abs(y1-y2))\n",
    "\n",
    "def get_acc_lr(y1, y2, labels):\n",
    "    right = 0\n",
    "    for i in range(len(y1)):\n",
    "        diff = [abs(y1[i] - label) for label in labels]\n",
    "        idx = np.argmin(diff)\n",
    "        y1[i] = labels[idx]\n",
    "    \n",
    "    return sum(y1==y2)/len(y1)\n",
    "    "
   ]
  },
  {
   "cell_type": "code",
   "execution_count": 99,
   "metadata": {},
   "outputs": [
    {
     "name": "stderr",
     "output_type": "stream",
     "text": [
      "/home/jinwei/anaconda3/lib/python3.7/site-packages/sklearn/linear_model/logistic.py:432: FutureWarning: Default solver will be changed to 'lbfgs' in 0.22. Specify a solver to silence this warning.\n",
      "  FutureWarning)\n",
      "/home/jinwei/anaconda3/lib/python3.7/site-packages/sklearn/linear_model/logistic.py:469: FutureWarning: Default multi_class will be changed to 'auto' in 0.22. Specify the multi_class option to silence this warning.\n",
      "  \"this warning.\", FutureWarning)\n"
     ]
    }
   ],
   "source": [
    "# fit model\n",
    "reg = LogisticRegression().fit(X_train, Y_train)\n",
    "Y_head = reg.predict(X_train)"
   ]
  },
  {
   "cell_type": "code",
   "execution_count": 100,
   "metadata": {},
   "outputs": [],
   "source": [
    "Y_testh= reg.predict(X_test)\n",
    "Y_trainh = reg.predict(X_train)"
   ]
  },
  {
   "cell_type": "code",
   "execution_count": 105,
   "metadata": {},
   "outputs": [
    {
     "name": "stdout",
     "output_type": "stream",
     "text": [
      "0.5270880361173815\n",
      "0.7054176072234764\n"
     ]
    }
   ],
   "source": [
    "print(get_error(Y_testh, Y_test))\n",
    "print(get_acc(Y_testh, Y_test, [1,2,3]))"
   ]
  },
  {
   "cell_type": "code",
   "execution_count": 122,
   "metadata": {},
   "outputs": [],
   "source": [
    "# visualize the coef\n",
    "# class 0\n",
    "coef0 = []\n",
    "for i in range(len(reg.coef_[0])):\n",
    "    coef0.append((abs(reg.coef_[0][i]), i, labels[i], reg.coef_[0][i]))\n",
    "coef0 = list(reversed(sorted(coef0)))"
   ]
  },
  {
   "cell_type": "code",
   "execution_count": 123,
   "metadata": {
    "collapsed": true
   },
   "outputs": [
    {
     "data": {
      "text/plain": [
       "[(6.17924362697192, 9, 'number_emergency', -6.17924362697192),\n",
       " (5.287297946139257, 10, 'number_inpatient', -5.287297946139257),\n",
       " (3.109589625795336, 8, 'number_outpatient', -3.109589625795336),\n",
       " (1.8200520816600017, 11, 'number_diagnoses', -1.8200520816600017),\n",
       " (0.7928093545529517, 26, 'miglitol', -0.7928093545529517),\n",
       " (0.5641648305540123, 44, 'diabetesMed_No', 0.5641648305540123),\n",
       " (0.5304043885084723, 41, 'gender_Unknown/Invalid', 0.5304043885084723),\n",
       " (0.49850712954037407, 22, 'tolbutamide', 0.49850712954037407),\n",
       " (0.4310254447387262, 43, 'change_No', 0.4310254447387262),\n",
       " (0.42433901737408436, 19, 'acetohexamide', -0.42433901737408436),\n",
       " (0.4111869178949286, 36, 'race_Caucasian', -0.4111869178949286),\n",
       " (0.4103472626421744, 25, 'acarbose', -0.4103472626421744),\n",
       " (0.4041002194562447, 0, 'age', -0.4041002194562447),\n",
       " (0.4002776364390523, 53, 'diagnose1_Other', 0.4002776364390523),\n",
       " (0.3848738274255069, 31, 'glipizide.metformin', -0.3848738274255069),\n",
       " (0.38032772838758233, 42, 'change_Ch', 0.38032772838758233),\n",
       " (0.37333528985849285, 37, 'race_Hispanic', -0.37333528985849285),\n",
       " (0.36969077067124806, 34, 'race_AfricanAmerican', -0.36969077067124806),\n",
       " (0.35527101910611497, 1, 'admission_type_id', -0.35527101910611497),\n",
       " (0.35139209433958585, 4, 'time_in_hospital', -0.35139209433958585),\n",
       " (0.33422568382473394, 2, 'discharge_disposition_id', 0.33422568382473394),\n",
       " (0.3342009174834491, 27, 'troglitazone', -0.3342009174834491),\n",
       " (0.3331983918133979, 52, 'diagnose1_Neoplasms', 0.3331983918133979),\n",
       " (0.3209404267697462, 6, 'num_procedures', 0.3209404267697462),\n",
       " (0.28490519339029285, 28, 'tolazamide', 0.28490519339029285),\n",
       " (0.2708230416642033, 49, 'diagnose1_Genitourinary', 0.2708230416642033),\n",
       " (0.256756006223932, 7, 'num_medications', 0.256756006223932),\n",
       " (0.2497535600630242, 51, 'diagnose1_Musculoskeletal', 0.2497535600630242),\n",
       " (0.2471883426599157, 45, 'diabetesMed_Yes', 0.2471883426599157),\n",
       " (0.24462965640798848, 15, 'repaglinide', -0.24462965640798848),\n",
       " (0.24120380785466067, 50, 'diagnose1_Injury', 0.24120380785466067),\n",
       " (0.17427419269195613, 54, 'diagnose1_Respiratory', 0.17427419269195613),\n",
       " (0.16891347184841576, 40, 'gender_Male', 0.16891347184841576),\n",
       " (0.16812554679062167, 35, 'race_Asian', -0.16812554679062167),\n",
       " (0.16213966509910863, 48, 'diagnose1_Digestive', 0.16213966509910863),\n",
       " (0.15534896173646853, 56, 'diagnose2_Diabetes', -0.15534896173646853),\n",
       " (0.15306363476770019, 14, 'metformin', 0.15306363476770019),\n",
       " (0.14310589891126438, 38, 'race_Other', -0.14310589891126438),\n",
       " (0.13731630832437525, 59, 'diagnose2_Injury', 0.13731630832437525),\n",
       " (0.13125317087685578, 68, 'diagnose3_Injury', 0.13125317087685578),\n",
       " (0.13017417659569538, 17, 'chlorpropamide', -0.13017417659569538),\n",
       " (0.12936098171348362, 12, 'max_glu_serum', 0.12936098171348362),\n",
       " (0.12360602108536019, 29, 'insulin', 0.12360602108536019),\n",
       " (0.12105962481395327, 3, 'admission_source_id', -0.12105962481395327),\n",
       " (0.11380809350468307, 46, 'diagnose1_Circulatory', 0.11380809350468307),\n",
       " (0.11203531274517303, 39, 'gender_Female', 0.11203531274517303),\n",
       " (0.1072667044347454, 23, 'pioglitazone', -0.1072667044347454),\n",
       " (0.10240581974553382, 16, 'nateglinide', -0.10240581974553382),\n",
       " (0.10080450221776209, 65, 'diagnose3_Diabetes', -0.10080450221776209),\n",
       " (0.09815346901858668, 66, 'diagnose3_Digestive', -0.09815346901858668),\n",
       " (0.0896974520554476, 47, 'diagnose1_Diabetes', -0.0896974520554476),\n",
       " (0.07723143600728337, 13, 'A1Cresult', 0.07723143600728337),\n",
       " (0.0767296892880354, 70, 'diagnose3_Neoplasms', 0.0767296892880354),\n",
       " (0.07533225719120851, 5, 'num_lab_procedures', -0.07533225719120851),\n",
       " (0.07368929418966617, 30, 'glyburide.metformin', -0.07368929418966617),\n",
       " (0.07252255356733756, 20, 'glipizide', -0.07252255356733756),\n",
       " (0.07030293840640715, 62, 'diagnose2_Other', 0.07030293840640715),\n",
       " (0.06648572008489619, 63, 'diagnose2_Respiratory', 0.06648572008489619),\n",
       " (0.05732869816175932, 24, 'rosiglitazone', -0.05732869816175932),\n",
       " (0.05452122326159855, 18, 'glimepiride', 0.05452122326159855),\n",
       " (0.05234789788670566, 57, 'diagnose2_Digestive', 0.05234789788670566),\n",
       " (0.05015199421257861, 55, 'diagnose2_Circulatory', -0.05015199421257861),\n",
       " (0.049018884569028046, 60, 'diagnose2_Musculoskeletal', 0.049018884569028046),\n",
       " (0.04828218559968957, 21, 'glyburide', 0.04828218559968957),\n",
       " (0.045547704950335326, 64, 'diagnose3_Circulatory', -0.045547704950335326),\n",
       " (0.03489150526978924, 71, 'diagnose3_Other', -0.03489150526978924),\n",
       " (0.030213519580886777, 72, 'diagnose3_Respiratory', 0.030213519580886777),\n",
       " (0.02661138795163009, 67, 'diagnose3_Genitourinary', -0.02661138795163009),\n",
       " (0.010731120150116657,\n",
       "  69,\n",
       "  'diagnose3_Musculoskeletal',\n",
       "  -0.010731120150116657),\n",
       " (0.007124083258089558, 58, 'diagnose2_Genitourinary', 0.007124083258089558),\n",
       " (0.005882343009460684, 61, 'diagnose2_Neoplasms', -0.005882343009460684),\n",
       " (0.0, 33, 'metformin.pioglitazone', 0.0),\n",
       " (0.0, 32, 'metformin.rosiglitazone', 0.0)]"
      ]
     },
     "execution_count": 123,
     "metadata": {},
     "output_type": "execute_result"
    }
   ],
   "source": [
    "coef0"
   ]
  },
  {
   "cell_type": "code",
   "execution_count": 160,
   "metadata": {},
   "outputs": [
    {
     "data": {
      "image/png": "[encoded data removed]",
      "text/plain": [
       "<Figure size 432x288 with 1 Axes>"
      ]
     },
     "metadata": {
      "needs_background": "light"
     },
     "output_type": "display_data"
    }
   ],
   "source": [
    "names = [e[2] for e in coef0[:5]]\n",
    "heights= [e[0] for e in coef0[:5]]\n",
    "vals = [e[3] for e in coef0[:5]]\n",
    "colors = ['g' if e[3] > 0 else 'r' for e in coef0[:5]]\n",
    "y_pos = np.arange(5)\n",
    "plt.bar(y_pos, heights, color=colors)\n",
    "plt.xticks(y_pos, names, rotation='vertical')\n",
    "plt.ylabel('Coefficients')\n",
    "plt.savefig('LR_class1.jpg',bbox_inches='tight')"
   ]
  },
  {
   "cell_type": "code",
   "execution_count": 161,
   "metadata": {},
   "outputs": [
    {
     "name": "stdout",
     "output_type": "stream",
     "text": [
      "number_emergency :  -6.17924362697192\n",
      "number_inpatient :  -5.287297946139257\n",
      "number_outpatient :  -3.109589625795336\n",
      "number_diagnoses :  -1.8200520816600017\n",
      "miglitol :  -0.7928093545529517\n"
     ]
    }
   ],
   "source": [
    "for i in range(5):\n",
    "    print(names[i], \": \", vals[i])"
   ]
  },
  {
   "cell_type": "code",
   "execution_count": 124,
   "metadata": {},
   "outputs": [],
   "source": [
    "# class1\n",
    "coef1 = []\n",
    "for i in range(len(reg.coef_[1])):\n",
    "    coef1.append((abs(reg.coef_[1][i]), i, labels[i], reg.coef_[1][i]))\n",
    "coef1 = list(reversed(sorted(coef1)))"
   ]
  },
  {
   "cell_type": "code",
   "execution_count": 162,
   "metadata": {},
   "outputs": [
    {
     "data": {
      "image/png": "[encoded data removed]",
      "text/plain": [
       "<Figure size 432x288 with 1 Axes>"
      ]
     },
     "metadata": {
      "needs_background": "light"
     },
     "output_type": "display_data"
    }
   ],
   "source": [
    "names = [e[2] for e in coef1[:5]]\n",
    "heights= [e[0] for e in coef1[:5]]\n",
    "colors = ['g' if e[3] > 0 else 'r' for e in coef1[:5]]\n",
    "vals = [e[3] for e in coef1[:5]]\n",
    "y_pos = np.arange(5)\n",
    "plt.bar(y_pos, heights, color=colors)\n",
    "plt.xticks(y_pos, names, rotation='vertical')\n",
    "plt.ylabel('Coefficients')\n",
    "plt.savefig('LR_class2.jpg', bbox_inches='tight')"
   ]
  },
  {
   "cell_type": "code",
   "execution_count": 163,
   "metadata": {},
   "outputs": [
    {
     "name": "stdout",
     "output_type": "stream",
     "text": [
      "number_inpatient :  3.8989570904297075\n",
      "number_emergency :  1.9616037290918948\n",
      "chlorpropamide :  -0.896685456127739\n",
      "diabetesMed_No :  -0.8648345034283673\n",
      "number_diagnoses :  0.8238872938405993\n"
     ]
    }
   ],
   "source": [
    "for i in range(5):\n",
    "    print(names[i], \": \", vals[i])"
   ]
  },
  {
   "cell_type": "code",
   "execution_count": 128,
   "metadata": {},
   "outputs": [],
   "source": [
    "# class2\n",
    "coef2 = []\n",
    "for i in range(len(reg.coef_[2])):\n",
    "    coef2.append((abs(reg.coef_[2][i]), i, labels[i], reg.coef_[2][i]))\n",
    "coef2 = list(reversed(sorted(coef2)))"
   ]
  },
  {
   "cell_type": "code",
   "execution_count": 164,
   "metadata": {
    "scrolled": true
   },
   "outputs": [
    {
     "data": {
      "image/png": "[encoded data removed]",
      "text/plain": [
       "<Figure size 432x288 with 1 Axes>"
      ]
     },
     "metadata": {
      "needs_background": "light"
     },
     "output_type": "display_data"
    }
   ],
   "source": [
    "names = [e[2] for e in coef2[:5]]\n",
    "heights= [e[0] for e in coef2[:5]]\n",
    "colors = ['g' if e[3] > 0 else 'r' for e in coef2[:5]]\n",
    "vals = [e[3] for e in coef2[:5]]\n",
    "y_pos = np.arange(5)\n",
    "plt.bar(y_pos, heights, color=colors)\n",
    "plt.xticks(y_pos, names, rotation='vertical')\n",
    "plt.ylabel('Coefficients')\n",
    "plt.savefig('LR_class3.jpg', bbox_inches='tight')"
   ]
  },
  {
   "cell_type": "code",
   "execution_count": 165,
   "metadata": {},
   "outputs": [
    {
     "name": "stdout",
     "output_type": "stream",
     "text": [
      "number_emergency :  4.504286731632664\n",
      "number_outpatient :  3.0688749970826037\n",
      "number_inpatient :  2.4413010917318103\n",
      "number_diagnoses :  1.725580176284693\n",
      "miglitol :  0.9852093550584486\n"
     ]
    }
   ],
   "source": [
    "for i in range(5):\n",
    "    print(names[i], \": \", vals[i])"
   ]
  },
  {
   "cell_type": "code",
   "execution_count": null,
   "metadata": {},
   "outputs": [],
   "source": []
  }
 ],
 "metadata": {
  "kernelspec": {
   "display_name": "Python 3",
   "language": "python",
   "name": "python3"
  },
  "language_info": {
   "codemirror_mode": {
    "name": "ipython",
    "version": 3
   },
   "file_extension": ".py",
   "mimetype": "text/x-python",
   "name": "python",
   "nbconvert_exporter": "python",
   "pygments_lexer": "ipython3",
   "version": "3.7.4"
  }
 },
 "nbformat": 4,
 "nbformat_minor": 2
}
