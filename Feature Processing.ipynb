{
 "cells": [
  {
   "cell_type": "code",
   "execution_count": 101,
   "metadata": {},
   "outputs": [],
   "source": [
    "import pandas as pd\n",
    "import numpy as np"
   ]
  },
  {
   "cell_type": "code",
   "execution_count": 187,
   "metadata": {},
   "outputs": [],
   "source": [
    "# load csv\n",
    "csv = pd.read_csv('Diabetes_clean.csv')"
   ]
  },
  {
   "cell_type": "code",
   "execution_count": 190,
   "metadata": {},
   "outputs": [],
   "source": [
    "# load mapping\n",
    "dicts = dict()\n",
    "\n",
    "# race\n",
    "races = list(set(list(csv['race'])))\n",
    "dicts['race'] = dict()\n",
    "raced = dicts['race']\n",
    "for i in range(len(races)):\n",
    "    raced[races[i]] = i+1\n",
    "\n",
    "# gender\n",
    "dicts['gender'] = dict()\n",
    "genderd = dicts['gender']\n",
    "genderd['Female'] = 2\n",
    "genderd['Male'] = 1\n",
    "genderd['Unknown/Invalid'] = 0\n",
    "\n",
    "# age\n",
    "dicts['age'] = dict()\n",
    "aged = dicts['age']\n",
    "aged['[0-10)'] = 1\n",
    "aged['[10-20)'] = 2\n",
    "aged['[20-30)'] = 3\n",
    "aged['[30-40)'] = 4\n",
    "aged['[40-50)'] = 5\n",
    "aged['[50-60)'] = 6\n",
    "aged['[60-70)'] = 7\n",
    "aged['[70-80)'] = 8\n",
    "aged['[80-90)'] = 9\n",
    "aged['[90-100)'] = 10\n",
    "\n",
    "\n",
    "# max_glu_serum\n",
    "dicts['max_glu_serum'] = dict()\n",
    "mgsd = dicts['max_glu_serum']\n",
    "mgsd['None'] = 0\n",
    "mgsd['Norm'] = 1\n",
    "mgsd['>200'] = 2\n",
    "mgsd['>300'] = 3\n",
    "\n",
    "# A1Cresult\n",
    "dicts['A1Cresult'] = dict()\n",
    "A1Cd = dicts['A1Cresult']\n",
    "A1Cd['None'] = 0\n",
    "A1Cd['Norm'] = 1\n",
    "A1Cd['>7'] = 2\n",
    "A1Cd['>8'] = 3\n",
    "\n",
    "# change\n",
    "dicts['change'] = dict()\n",
    "chd = dicts['change']\n",
    "chd['No'] = 1\n",
    "chd['Ch'] = 2\n",
    "\n",
    "# diabetesMed\n",
    "dicts['diabetesMed'] = dict()\n",
    "dmd = dicts['diabetesMed']\n",
    "dmd['No'] = 1\n",
    "dmd['Yes'] = 2\n",
    "\n",
    "# readmitted\n",
    "dicts['readmitted'] = dict()\n",
    "red = dicts['readmitted']\n",
    "red['NO'] = 1\n",
    "red['<30'] = 2\n",
    "red['>30'] = 3\n",
    "\n",
    "# others\n",
    "dicts['other'] = dict()\n",
    "otherd = dicts['other']\n",
    "otherd['No'] = 0\n",
    "otherd['Down'] = 1\n",
    "otherd['Steady'] = 2\n",
    "otherd['Up'] = 3\n",
    "\n",
    "# diags\n",
    "diags = list(set(list(csv['diagnose1']) + list(csv['diagnose2']) + list(csv['diagnose2'])))\n",
    "dicts['diagnose'] = dict()\n",
    "diagd = dicts['diagnose']\n",
    "for i in range(len(diags)):\n",
    "    diagd[diags[i]] = i\n",
    "    \n",
    "dicts['diagnose1'] = diagd\n",
    "dicts['diagnose2'] = diagd\n",
    "dicts['diagnose3'] = diagd"
   ]
  },
  {
   "cell_type": "code",
   "execution_count": 189,
   "metadata": {
    "collapsed": true
   },
   "outputs": [
    {
     "ename": "KeyError",
     "evalue": "\"['diag_1' 'diag_2' 'diag_3' 'diag1' 'diag2' 'diag3'] not found in axis\"",
     "output_type": "error",
     "traceback": [
      "\u001b[0;31m---------------------------------------------------------------------------\u001b[0m",
      "\u001b[0;31mKeyError\u001b[0m                                  Traceback (most recent call last)",
      "\u001b[0;32m<ipython-input-189-8991a5af6d36>\u001b[0m in \u001b[0;36m<module>\u001b[0;34m\u001b[0m\n\u001b[1;32m      1\u001b[0m \u001b[0;31m# remove unrelavant columns\u001b[0m\u001b[0;34m\u001b[0m\u001b[0;34m\u001b[0m\u001b[0;34m\u001b[0m\u001b[0m\n\u001b[0;32m----> 2\u001b[0;31m \u001b[0mcsv\u001b[0m \u001b[0;34m=\u001b[0m \u001b[0mcsv\u001b[0m\u001b[0;34m.\u001b[0m\u001b[0mdrop\u001b[0m\u001b[0;34m(\u001b[0m\u001b[0;34m[\u001b[0m\u001b[0;34m'diag_1'\u001b[0m\u001b[0;34m,\u001b[0m \u001b[0;34m'diag_2'\u001b[0m\u001b[0;34m,\u001b[0m \u001b[0;34m'diag_3'\u001b[0m\u001b[0;34m,\u001b[0m \u001b[0;34m'diag1'\u001b[0m\u001b[0;34m,\u001b[0m \u001b[0;34m'diag2'\u001b[0m\u001b[0;34m,\u001b[0m \u001b[0;34m'diag3'\u001b[0m\u001b[0;34m]\u001b[0m\u001b[0;34m,\u001b[0m \u001b[0maxis\u001b[0m\u001b[0;34m=\u001b[0m\u001b[0;36m1\u001b[0m\u001b[0;34m)\u001b[0m\u001b[0;34m\u001b[0m\u001b[0;34m\u001b[0m\u001b[0m\n\u001b[0m",
      "\u001b[0;32m~/anaconda3/lib/python3.7/site-packages/pandas/core/frame.py\u001b[0m in \u001b[0;36mdrop\u001b[0;34m(self, labels, axis, index, columns, level, inplace, errors)\u001b[0m\n\u001b[1;32m   4100\u001b[0m             \u001b[0mlevel\u001b[0m\u001b[0;34m=\u001b[0m\u001b[0mlevel\u001b[0m\u001b[0;34m,\u001b[0m\u001b[0;34m\u001b[0m\u001b[0;34m\u001b[0m\u001b[0m\n\u001b[1;32m   4101\u001b[0m             \u001b[0minplace\u001b[0m\u001b[0;34m=\u001b[0m\u001b[0minplace\u001b[0m\u001b[0;34m,\u001b[0m\u001b[0;34m\u001b[0m\u001b[0;34m\u001b[0m\u001b[0m\n\u001b[0;32m-> 4102\u001b[0;31m             \u001b[0merrors\u001b[0m\u001b[0;34m=\u001b[0m\u001b[0merrors\u001b[0m\u001b[0;34m,\u001b[0m\u001b[0;34m\u001b[0m\u001b[0;34m\u001b[0m\u001b[0m\n\u001b[0m\u001b[1;32m   4103\u001b[0m         )\n\u001b[1;32m   4104\u001b[0m \u001b[0;34m\u001b[0m\u001b[0m\n",
      "\u001b[0;32m~/anaconda3/lib/python3.7/site-packages/pandas/core/generic.py\u001b[0m in \u001b[0;36mdrop\u001b[0;34m(self, labels, axis, index, columns, level, inplace, errors)\u001b[0m\n\u001b[1;32m   3912\u001b[0m         \u001b[0;32mfor\u001b[0m \u001b[0maxis\u001b[0m\u001b[0;34m,\u001b[0m \u001b[0mlabels\u001b[0m \u001b[0;32min\u001b[0m \u001b[0maxes\u001b[0m\u001b[0;34m.\u001b[0m\u001b[0mitems\u001b[0m\u001b[0;34m(\u001b[0m\u001b[0;34m)\u001b[0m\u001b[0;34m:\u001b[0m\u001b[0;34m\u001b[0m\u001b[0;34m\u001b[0m\u001b[0m\n\u001b[1;32m   3913\u001b[0m             \u001b[0;32mif\u001b[0m \u001b[0mlabels\u001b[0m \u001b[0;32mis\u001b[0m \u001b[0;32mnot\u001b[0m \u001b[0;32mNone\u001b[0m\u001b[0;34m:\u001b[0m\u001b[0;34m\u001b[0m\u001b[0;34m\u001b[0m\u001b[0m\n\u001b[0;32m-> 3914\u001b[0;31m                 \u001b[0mobj\u001b[0m \u001b[0;34m=\u001b[0m \u001b[0mobj\u001b[0m\u001b[0;34m.\u001b[0m\u001b[0m_drop_axis\u001b[0m\u001b[0;34m(\u001b[0m\u001b[0mlabels\u001b[0m\u001b[0;34m,\u001b[0m \u001b[0maxis\u001b[0m\u001b[0;34m,\u001b[0m \u001b[0mlevel\u001b[0m\u001b[0;34m=\u001b[0m\u001b[0mlevel\u001b[0m\u001b[0;34m,\u001b[0m \u001b[0merrors\u001b[0m\u001b[0;34m=\u001b[0m\u001b[0merrors\u001b[0m\u001b[0;34m)\u001b[0m\u001b[0;34m\u001b[0m\u001b[0;34m\u001b[0m\u001b[0m\n\u001b[0m\u001b[1;32m   3915\u001b[0m \u001b[0;34m\u001b[0m\u001b[0m\n\u001b[1;32m   3916\u001b[0m         \u001b[0;32mif\u001b[0m \u001b[0minplace\u001b[0m\u001b[0;34m:\u001b[0m\u001b[0;34m\u001b[0m\u001b[0;34m\u001b[0m\u001b[0m\n",
      "\u001b[0;32m~/anaconda3/lib/python3.7/site-packages/pandas/core/generic.py\u001b[0m in \u001b[0;36m_drop_axis\u001b[0;34m(self, labels, axis, level, errors)\u001b[0m\n\u001b[1;32m   3944\u001b[0m                 \u001b[0mnew_axis\u001b[0m \u001b[0;34m=\u001b[0m \u001b[0maxis\u001b[0m\u001b[0;34m.\u001b[0m\u001b[0mdrop\u001b[0m\u001b[0;34m(\u001b[0m\u001b[0mlabels\u001b[0m\u001b[0;34m,\u001b[0m \u001b[0mlevel\u001b[0m\u001b[0;34m=\u001b[0m\u001b[0mlevel\u001b[0m\u001b[0;34m,\u001b[0m \u001b[0merrors\u001b[0m\u001b[0;34m=\u001b[0m\u001b[0merrors\u001b[0m\u001b[0;34m)\u001b[0m\u001b[0;34m\u001b[0m\u001b[0;34m\u001b[0m\u001b[0m\n\u001b[1;32m   3945\u001b[0m             \u001b[0;32melse\u001b[0m\u001b[0;34m:\u001b[0m\u001b[0;34m\u001b[0m\u001b[0;34m\u001b[0m\u001b[0m\n\u001b[0;32m-> 3946\u001b[0;31m                 \u001b[0mnew_axis\u001b[0m \u001b[0;34m=\u001b[0m \u001b[0maxis\u001b[0m\u001b[0;34m.\u001b[0m\u001b[0mdrop\u001b[0m\u001b[0;34m(\u001b[0m\u001b[0mlabels\u001b[0m\u001b[0;34m,\u001b[0m \u001b[0merrors\u001b[0m\u001b[0;34m=\u001b[0m\u001b[0merrors\u001b[0m\u001b[0;34m)\u001b[0m\u001b[0;34m\u001b[0m\u001b[0;34m\u001b[0m\u001b[0m\n\u001b[0m\u001b[1;32m   3947\u001b[0m             \u001b[0mresult\u001b[0m \u001b[0;34m=\u001b[0m \u001b[0mself\u001b[0m\u001b[0;34m.\u001b[0m\u001b[0mreindex\u001b[0m\u001b[0;34m(\u001b[0m\u001b[0;34m**\u001b[0m\u001b[0;34m{\u001b[0m\u001b[0maxis_name\u001b[0m\u001b[0;34m:\u001b[0m \u001b[0mnew_axis\u001b[0m\u001b[0;34m}\u001b[0m\u001b[0;34m)\u001b[0m\u001b[0;34m\u001b[0m\u001b[0;34m\u001b[0m\u001b[0m\n\u001b[1;32m   3948\u001b[0m \u001b[0;34m\u001b[0m\u001b[0m\n",
      "\u001b[0;32m~/anaconda3/lib/python3.7/site-packages/pandas/core/indexes/base.py\u001b[0m in \u001b[0;36mdrop\u001b[0;34m(self, labels, errors)\u001b[0m\n\u001b[1;32m   5338\u001b[0m         \u001b[0;32mif\u001b[0m \u001b[0mmask\u001b[0m\u001b[0;34m.\u001b[0m\u001b[0many\u001b[0m\u001b[0;34m(\u001b[0m\u001b[0;34m)\u001b[0m\u001b[0;34m:\u001b[0m\u001b[0;34m\u001b[0m\u001b[0;34m\u001b[0m\u001b[0m\n\u001b[1;32m   5339\u001b[0m             \u001b[0;32mif\u001b[0m \u001b[0merrors\u001b[0m \u001b[0;34m!=\u001b[0m \u001b[0;34m\"ignore\"\u001b[0m\u001b[0;34m:\u001b[0m\u001b[0;34m\u001b[0m\u001b[0;34m\u001b[0m\u001b[0m\n\u001b[0;32m-> 5340\u001b[0;31m                 \u001b[0;32mraise\u001b[0m \u001b[0mKeyError\u001b[0m\u001b[0;34m(\u001b[0m\u001b[0;34m\"{} not found in axis\"\u001b[0m\u001b[0;34m.\u001b[0m\u001b[0mformat\u001b[0m\u001b[0;34m(\u001b[0m\u001b[0mlabels\u001b[0m\u001b[0;34m[\u001b[0m\u001b[0mmask\u001b[0m\u001b[0;34m]\u001b[0m\u001b[0;34m)\u001b[0m\u001b[0;34m)\u001b[0m\u001b[0;34m\u001b[0m\u001b[0;34m\u001b[0m\u001b[0m\n\u001b[0m\u001b[1;32m   5341\u001b[0m             \u001b[0mindexer\u001b[0m \u001b[0;34m=\u001b[0m \u001b[0mindexer\u001b[0m\u001b[0;34m[\u001b[0m\u001b[0;34m~\u001b[0m\u001b[0mmask\u001b[0m\u001b[0;34m]\u001b[0m\u001b[0;34m\u001b[0m\u001b[0;34m\u001b[0m\u001b[0m\n\u001b[1;32m   5342\u001b[0m         \u001b[0;32mreturn\u001b[0m \u001b[0mself\u001b[0m\u001b[0;34m.\u001b[0m\u001b[0mdelete\u001b[0m\u001b[0;34m(\u001b[0m\u001b[0mindexer\u001b[0m\u001b[0;34m)\u001b[0m\u001b[0;34m\u001b[0m\u001b[0;34m\u001b[0m\u001b[0m\n",
      "\u001b[0;31mKeyError\u001b[0m: \"['diag_1' 'diag_2' 'diag_3' 'diag1' 'diag2' 'diag3'] not found in axis\""
     ]
    }
   ],
   "source": [
    "# remove unrelavant columns\n",
    "# csv = csv.drop(['diag_1', 'diag_2', 'diag_3', 'diag1', 'diag2', 'diag3'], axis=1)"
   ]
  },
  {
   "cell_type": "code",
   "execution_count": 191,
   "metadata": {
    "collapsed": true
   },
   "outputs": [
    {
     "name": "stdout",
     "output_type": "stream",
     "text": [
      "encounter_id\n",
      "patient_nbr\n",
      "race\n",
      "gender\n",
      "age\n",
      "admission_type_id\n",
      "discharge_disposition_id\n",
      "admission_source_id\n",
      "time_in_hospital\n",
      "num_lab_procedures\n",
      "num_procedures\n",
      "num_medications\n",
      "number_outpatient\n",
      "number_emergency\n",
      "number_inpatient\n",
      "number_diagnoses\n",
      "max_glu_serum\n",
      "A1Cresult\n",
      "metformin\n",
      "repaglinide\n",
      "nateglinide\n",
      "chlorpropamide\n",
      "glimepiride\n",
      "acetohexamide\n",
      "glipizide\n",
      "glyburide\n",
      "tolbutamide\n",
      "pioglitazone\n",
      "rosiglitazone\n",
      "acarbose\n",
      "miglitol\n",
      "troglitazone\n",
      "tolazamide\n",
      "insulin\n",
      "glyburide.metformin\n",
      "glipizide.metformin\n",
      "metformin.rosiglitazone\n",
      "metformin.pioglitazone\n",
      "change\n",
      "diabetesMed\n",
      "readmitted\n",
      "diagnose1\n",
      "diagnose2\n",
      "diagnose3\n"
     ]
    }
   ],
   "source": [
    "# update values to numeric\n",
    "keepcols = ['encounter_id', 'patient_nbr', 'admission_type_id', 'discharge_disposition_id', 'admission_source_id',\n",
    "       'time_in_hospital', 'num_lab_procedures', 'num_procedures',\n",
    "       'num_medications', 'number_outpatient', 'number_emergency',\n",
    "       'number_inpatient', 'number_diagnoses']\n",
    "onehotcols = ['race', 'gender', 'change', 'diabetesMed', 'diagnose1', 'diagnose2', 'diagnose3']\n",
    "\n",
    "for c in csv.columns:\n",
    "    print(c)\n",
    "    if c in keepcols or c in onehotcols:\n",
    "        continue\n",
    "    if c not in dicts.keys():\n",
    "        dic = dicts['other']\n",
    "    else:\n",
    "        dic = dicts[c]\n",
    "        \n",
    "    # update values\n",
    "    ls = csv[c]\n",
    "    newls = [dic[e] for e in ls]\n",
    "    csv[c] = newls\n"
   ]
  },
  {
   "cell_type": "code",
   "execution_count": 192,
   "metadata": {},
   "outputs": [],
   "source": [
    "# update one hot coding\n",
    "onehotcols = ['race', 'gender', 'change', 'diabetesMed', 'diagnose1', 'diagnose2', 'diagnose3']\n",
    "\n",
    "dfs = []\n",
    "for c in onehotcols:\n",
    "    df  = pd.get_dummies(csv[c],prefix=c, drop_first=False)\n",
    "    dfs.append(df)\n",
    "\n",
    "for df in dfs:\n",
    "    csv = pd.concat([csv, df], axis=1)\n",
    "    \n",
    "for c in onehotcols:\n",
    "    csv = csv.drop([c], axis=1)"
   ]
  },
  {
   "cell_type": "code",
   "execution_count": 193,
   "metadata": {},
   "outputs": [],
   "source": [
    "# Adjust output\n",
    "csv = csv[[c for c in csv if c not in ['readmitted']] + ['readmitted']]"
   ]
  },
  {
   "cell_type": "code",
   "execution_count": 196,
   "metadata": {},
   "outputs": [],
   "source": [
    "csv = csv.drop(['encounter_id', 'patient_nbr'], axis=1)\n",
    "csv.to_csv('hospital_ready.csv', index=False)"
   ]
  },
  {
   "cell_type": "code",
   "execution_count": 198,
   "metadata": {},
   "outputs": [],
   "source": [
    "csv_shuffle = csv.sample(frac=1)\n",
    "csv_shuffle.to_csv('hospital_ready_shuffle.csv', index=False)"
   ]
  },
  {
   "cell_type": "code",
   "execution_count": null,
   "metadata": {},
   "outputs": [],
   "source": []
  }
 ],
 "metadata": {
  "kernelspec": {
   "display_name": "Python 3",
   "language": "python",
   "name": "python3"
  },
  "language_info": {
   "codemirror_mode": {
    "name": "ipython",
    "version": 3
   },
   "file_extension": ".py",
   "mimetype": "text/x-python",
   "name": "python",
   "nbconvert_exporter": "python",
   "pygments_lexer": "ipython3",
   "version": "3.7.4"
  }
 },
 "nbformat": 4,
 "nbformat_minor": 2
}
